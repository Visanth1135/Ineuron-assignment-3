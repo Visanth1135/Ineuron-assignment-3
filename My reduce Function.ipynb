{
 "cells": [
  {
   "cell_type": "code",
   "execution_count": 28,
   "id": "3e3fe0b9",
   "metadata": {},
   "outputs": [
    {
     "data": {
      "text/plain": [
       "15"
      ]
     },
     "execution_count": 28,
     "metadata": {},
     "output_type": "execute_result"
    }
   ],
   "source": [
    "def myreduce(function,list,start=None):\n",
    "    if start is None:\n",
    "        result=0\n",
    "    else:\n",
    "        result=start\n",
    "    for increment in list:\n",
    "        result=function(result,increment)\n",
    "    return result\n",
    "\n",
    "def add(a,b):\n",
    "    s=a+b\n",
    "    return s\n",
    "\n",
    "li=[6,4,5]\n",
    "\n",
    "product=myreduce(add,li)\n",
    "product\n"
   ]
  },
  {
   "cell_type": "code",
   "execution_count": null,
   "id": "75aef106",
   "metadata": {},
   "outputs": [],
   "source": []
  }
 ],
 "metadata": {
  "kernelspec": {
   "display_name": "Python 3",
   "language": "python",
   "name": "python3"
  },
  "language_info": {
   "codemirror_mode": {
    "name": "ipython",
    "version": 3
   },
   "file_extension": ".py",
   "mimetype": "text/x-python",
   "name": "python",
   "nbconvert_exporter": "python",
   "pygments_lexer": "ipython3",
   "version": "3.8.8"
  }
 },
 "nbformat": 4,
 "nbformat_minor": 5
}
