{
 "cells": [
  {
   "cell_type": "code",
   "execution_count": 14,
   "id": "48e6eb42",
   "metadata": {},
   "outputs": [
    {
     "name": "stdout",
     "output_type": "stream",
     "text": [
      "[2, 4, 6, 8]\n"
     ]
    }
   ],
   "source": [
    "def myfilter(Function,list):\n",
    "    result=[]\n",
    "    for i in list:\n",
    "        value=even(i)\n",
    "        if value in list:\n",
    "            result.append(value)\n",
    "    return result        \n",
    "    \n",
    "def even(Numbers):\n",
    "    if Numbers%2==0:\n",
    "        return Numbers\n",
    "\n",
    "    \n",
    "Li=[1,2,3,4,5,6,7,8,9]\n",
    "Even_numbers=myfilter(even,Li)\n",
    "print(Even_numbers)\n"
   ]
  },
  {
   "cell_type": "code",
   "execution_count": null,
   "id": "678c05a1",
   "metadata": {},
   "outputs": [],
   "source": []
  }
 ],
 "metadata": {
  "kernelspec": {
   "display_name": "Python 3",
   "language": "python",
   "name": "python3"
  },
  "language_info": {
   "codemirror_mode": {
    "name": "ipython",
    "version": 3
   },
   "file_extension": ".py",
   "mimetype": "text/x-python",
   "name": "python",
   "nbconvert_exporter": "python",
   "pygments_lexer": "ipython3",
   "version": "3.8.8"
  }
 },
 "nbformat": 4,
 "nbformat_minor": 5
}
